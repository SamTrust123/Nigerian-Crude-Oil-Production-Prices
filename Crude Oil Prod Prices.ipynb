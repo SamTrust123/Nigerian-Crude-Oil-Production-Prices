{
 "cells": [
  {
   "cell_type": "markdown",
   "metadata": {},
   "source": [
    "load the relevant libraries"
   ]
  },
  {
   "cell_type": "code",
   "execution_count": 1,
   "metadata": {},
   "outputs": [],
   "source": [
    "import numpy as np\n",
    "import pandas as pd\n",
    "import matplotlib.pyplot as plt"
   ]
  },
  {
   "cell_type": "markdown",
   "metadata": {},
   "source": [
    "Load dataset"
   ]
  },
  {
   "cell_type": "code",
   "execution_count": 2,
   "metadata": {},
   "outputs": [
    {
     "data": {
      "text/html": [
       "<div>\n",
       "<style scoped>\n",
       "    .dataframe tbody tr th:only-of-type {\n",
       "        vertical-align: middle;\n",
       "    }\n",
       "\n",
       "    .dataframe tbody tr th {\n",
       "        vertical-align: top;\n",
       "    }\n",
       "\n",
       "    .dataframe thead th {\n",
       "        text-align: right;\n",
       "    }\n",
       "</style>\n",
       "<table border=\"1\" class=\"dataframe\">\n",
       "  <thead>\n",
       "    <tr style=\"text-align: right;\">\n",
       "      <th></th>\n",
       "      <th>Year</th>\n",
       "      <th>Month</th>\n",
       "      <th>Crude Oil Price</th>\n",
       "      <th>Production</th>\n",
       "      <th>Crude Oil Export</th>\n",
       "      <th>Total Production[barrel]</th>\n",
       "      <th>Total Price</th>\n",
       "    </tr>\n",
       "  </thead>\n",
       "  <tbody>\n",
       "    <tr>\n",
       "      <th>0</th>\n",
       "      <td>2006</td>\n",
       "      <td>1</td>\n",
       "      <td>63.85</td>\n",
       "      <td>2.59</td>\n",
       "      <td>2.14</td>\n",
       "      <td>2590000</td>\n",
       "      <td>165371500</td>\n",
       "    </tr>\n",
       "    <tr>\n",
       "      <th>1</th>\n",
       "      <td>2006</td>\n",
       "      <td>2</td>\n",
       "      <td>61.33</td>\n",
       "      <td>2.47</td>\n",
       "      <td>2.02</td>\n",
       "      <td>2470000</td>\n",
       "      <td>151485100</td>\n",
       "    </tr>\n",
       "    <tr>\n",
       "      <th>2</th>\n",
       "      <td>2006</td>\n",
       "      <td>3</td>\n",
       "      <td>65.00</td>\n",
       "      <td>2.25</td>\n",
       "      <td>1.80</td>\n",
       "      <td>2250000</td>\n",
       "      <td>146250000</td>\n",
       "    </tr>\n",
       "    <tr>\n",
       "      <th>3</th>\n",
       "      <td>2006</td>\n",
       "      <td>4</td>\n",
       "      <td>72.09</td>\n",
       "      <td>2.32</td>\n",
       "      <td>1.87</td>\n",
       "      <td>2320000</td>\n",
       "      <td>167248800</td>\n",
       "    </tr>\n",
       "    <tr>\n",
       "      <th>4</th>\n",
       "      <td>2006</td>\n",
       "      <td>5</td>\n",
       "      <td>71.18</td>\n",
       "      <td>2.28</td>\n",
       "      <td>1.83</td>\n",
       "      <td>2280000</td>\n",
       "      <td>162290400</td>\n",
       "    </tr>\n",
       "  </tbody>\n",
       "</table>\n",
       "</div>"
      ],
      "text/plain": [
       "   Year  Month  Crude Oil Price  Production  Crude Oil Export  \\\n",
       "0  2006      1            63.85        2.59              2.14   \n",
       "1  2006      2            61.33        2.47              2.02   \n",
       "2  2006      3            65.00        2.25              1.80   \n",
       "3  2006      4            72.09        2.32              1.87   \n",
       "4  2006      5            71.18        2.28              1.83   \n",
       "\n",
       "   Total Production[barrel]  Total Price  \n",
       "0                   2590000    165371500  \n",
       "1                   2470000    151485100  \n",
       "2                   2250000    146250000  \n",
       "3                   2320000    167248800  \n",
       "4                   2280000    162290400  "
      ]
     },
     "execution_count": 2,
     "metadata": {},
     "output_type": "execute_result"
    }
   ],
   "source": [
    "raw_data = pd.read_csv(\"./machine learning datasets/Crude OIl Prod.csv\")\n",
    "raw_data.head()"
   ]
  },
  {
   "cell_type": "markdown",
   "metadata": {},
   "source": [
    "performing exploratory data analysis"
   ]
  },
  {
   "cell_type": "code",
   "execution_count": 4,
   "metadata": {},
   "outputs": [
    {
     "name": "stdout",
     "output_type": "stream",
     "text": [
      "<class 'pandas.core.frame.DataFrame'>\n",
      "RangeIndex: 202 entries, 0 to 201\n",
      "Data columns (total 7 columns):\n",
      " #   Column                    Non-Null Count  Dtype  \n",
      "---  ------                    --------------  -----  \n",
      " 0   Year                      202 non-null    int64  \n",
      " 1   Month                     202 non-null    int64  \n",
      " 2   Crude Oil Price           202 non-null    float64\n",
      " 3   Production                202 non-null    float64\n",
      " 4   Crude Oil Export          202 non-null    float64\n",
      " 5   Total Production[barrel]  202 non-null    int64  \n",
      " 6   Total Price               202 non-null    int64  \n",
      "dtypes: float64(3), int64(4)\n",
      "memory usage: 11.2 KB\n"
     ]
    }
   ],
   "source": [
    "raw_data.info()"
   ]
  },
  {
   "cell_type": "code",
   "execution_count": 6,
   "metadata": {},
   "outputs": [
    {
     "data": {
      "text/plain": [
       "Index(['Year', 'Month', 'Crude Oil Price', 'Production', 'Crude Oil Export',\n",
       "       'Total Production[barrel]', 'Total Price'],\n",
       "      dtype='object')"
      ]
     },
     "execution_count": 6,
     "metadata": {},
     "output_type": "execute_result"
    }
   ],
   "source": [
    "raw_data.columns"
   ]
  },
  {
   "cell_type": "code",
   "execution_count": 7,
   "metadata": {},
   "outputs": [
    {
     "data": {
      "text/plain": [
       "(202, 7)"
      ]
     },
     "execution_count": 7,
     "metadata": {},
     "output_type": "execute_result"
    }
   ],
   "source": [
    "raw_data.shape"
   ]
  },
  {
   "cell_type": "markdown",
   "metadata": {},
   "source": [
    "summary statistic"
   ]
  },
  {
   "cell_type": "code",
   "execution_count": 8,
   "metadata": {},
   "outputs": [
    {
     "data": {
      "text/html": [
       "<div>\n",
       "<style scoped>\n",
       "    .dataframe tbody tr th:only-of-type {\n",
       "        vertical-align: middle;\n",
       "    }\n",
       "\n",
       "    .dataframe tbody tr th {\n",
       "        vertical-align: top;\n",
       "    }\n",
       "\n",
       "    .dataframe thead th {\n",
       "        text-align: right;\n",
       "    }\n",
       "</style>\n",
       "<table border=\"1\" class=\"dataframe\">\n",
       "  <thead>\n",
       "    <tr style=\"text-align: right;\">\n",
       "      <th></th>\n",
       "      <th>Year</th>\n",
       "      <th>Month</th>\n",
       "      <th>Crude Oil Price</th>\n",
       "      <th>Production</th>\n",
       "      <th>Crude Oil Export</th>\n",
       "      <th>Total Production[barrel]</th>\n",
       "      <th>Total Price</th>\n",
       "    </tr>\n",
       "  </thead>\n",
       "  <tbody>\n",
       "    <tr>\n",
       "      <th>count</th>\n",
       "      <td>202.000000</td>\n",
       "      <td>202.000000</td>\n",
       "      <td>202.000000</td>\n",
       "      <td>202.000000</td>\n",
       "      <td>202.000000</td>\n",
       "      <td>2.020000e+02</td>\n",
       "      <td>2.020000e+02</td>\n",
       "    </tr>\n",
       "    <tr>\n",
       "      <th>mean</th>\n",
       "      <td>2013.920792</td>\n",
       "      <td>6.450495</td>\n",
       "      <td>78.258564</td>\n",
       "      <td>2.026683</td>\n",
       "      <td>1.576683</td>\n",
       "      <td>2.026683e+06</td>\n",
       "      <td>1.603807e+08</td>\n",
       "    </tr>\n",
       "    <tr>\n",
       "      <th>std</th>\n",
       "      <td>4.869814</td>\n",
       "      <td>3.441049</td>\n",
       "      <td>26.494123</td>\n",
       "      <td>0.363397</td>\n",
       "      <td>0.363397</td>\n",
       "      <td>3.633966e+05</td>\n",
       "      <td>6.694750e+07</td>\n",
       "    </tr>\n",
       "    <tr>\n",
       "      <th>min</th>\n",
       "      <td>2006.000000</td>\n",
       "      <td>1.000000</td>\n",
       "      <td>14.280000</td>\n",
       "      <td>0.940000</td>\n",
       "      <td>0.490000</td>\n",
       "      <td>9.400000e+05</td>\n",
       "      <td>2.913120e+07</td>\n",
       "    </tr>\n",
       "    <tr>\n",
       "      <th>25%</th>\n",
       "      <td>2010.000000</td>\n",
       "      <td>3.250000</td>\n",
       "      <td>58.620000</td>\n",
       "      <td>1.932500</td>\n",
       "      <td>1.482500</td>\n",
       "      <td>1.932500e+06</td>\n",
       "      <td>1.029467e+08</td>\n",
       "    </tr>\n",
       "    <tr>\n",
       "      <th>50%</th>\n",
       "      <td>2014.000000</td>\n",
       "      <td>6.000000</td>\n",
       "      <td>73.705000</td>\n",
       "      <td>2.090000</td>\n",
       "      <td>1.640000</td>\n",
       "      <td>2.090000e+06</td>\n",
       "      <td>1.424608e+08</td>\n",
       "    </tr>\n",
       "    <tr>\n",
       "      <th>75%</th>\n",
       "      <td>2018.000000</td>\n",
       "      <td>9.000000</td>\n",
       "      <td>105.317500</td>\n",
       "      <td>2.277500</td>\n",
       "      <td>1.827500</td>\n",
       "      <td>2.277500e+06</td>\n",
       "      <td>2.179638e+08</td>\n",
       "    </tr>\n",
       "    <tr>\n",
       "      <th>max</th>\n",
       "      <td>2022.000000</td>\n",
       "      <td>12.000000</td>\n",
       "      <td>138.740000</td>\n",
       "      <td>2.880000</td>\n",
       "      <td>2.430000</td>\n",
       "      <td>2.880000e+06</td>\n",
       "      <td>3.012658e+08</td>\n",
       "    </tr>\n",
       "  </tbody>\n",
       "</table>\n",
       "</div>"
      ],
      "text/plain": [
       "              Year       Month  Crude Oil Price  Production  Crude Oil Export  \\\n",
       "count   202.000000  202.000000       202.000000  202.000000        202.000000   \n",
       "mean   2013.920792    6.450495        78.258564    2.026683          1.576683   \n",
       "std       4.869814    3.441049        26.494123    0.363397          0.363397   \n",
       "min    2006.000000    1.000000        14.280000    0.940000          0.490000   \n",
       "25%    2010.000000    3.250000        58.620000    1.932500          1.482500   \n",
       "50%    2014.000000    6.000000        73.705000    2.090000          1.640000   \n",
       "75%    2018.000000    9.000000       105.317500    2.277500          1.827500   \n",
       "max    2022.000000   12.000000       138.740000    2.880000          2.430000   \n",
       "\n",
       "       Total Production[barrel]   Total Price  \n",
       "count              2.020000e+02  2.020000e+02  \n",
       "mean               2.026683e+06  1.603807e+08  \n",
       "std                3.633966e+05  6.694750e+07  \n",
       "min                9.400000e+05  2.913120e+07  \n",
       "25%                1.932500e+06  1.029467e+08  \n",
       "50%                2.090000e+06  1.424608e+08  \n",
       "75%                2.277500e+06  2.179638e+08  \n",
       "max                2.880000e+06  3.012658e+08  "
      ]
     },
     "execution_count": 8,
     "metadata": {},
     "output_type": "execute_result"
    }
   ],
   "source": [
    "raw_data.describe()"
   ]
  },
  {
   "cell_type": "code",
   "execution_count": 10,
   "metadata": {},
   "outputs": [
    {
     "data": {
      "text/plain": [
       "Year                        0\n",
       "Month                       0\n",
       "Crude Oil Price             0\n",
       "Production                  0\n",
       "Crude Oil Export            0\n",
       "Total Production[barrel]    0\n",
       "Total Price                 0\n",
       "dtype: int64"
      ]
     },
     "execution_count": 10,
     "metadata": {},
     "output_type": "execute_result"
    }
   ],
   "source": [
    "#show missing values\n",
    "raw_data.isnull().sum()"
   ]
  },
  {
   "cell_type": "code",
   "execution_count": 11,
   "metadata": {},
   "outputs": [
    {
     "data": {
      "text/plain": [
       "0      False\n",
       "1      False\n",
       "2      False\n",
       "3      False\n",
       "4      False\n",
       "       ...  \n",
       "197    False\n",
       "198    False\n",
       "199    False\n",
       "200    False\n",
       "201    False\n",
       "Length: 202, dtype: bool"
      ]
     },
     "execution_count": 11,
     "metadata": {},
     "output_type": "execute_result"
    }
   ],
   "source": [
    "#checking for duplicate values\n",
    "raw_data.duplicated()"
   ]
  },
  {
   "cell_type": "markdown",
   "metadata": {},
   "source": [
    "performing data manipulation"
   ]
  },
  {
   "cell_type": "code",
   "execution_count": 13,
   "metadata": {},
   "outputs": [
    {
     "data": {
      "text/html": [
       "<div>\n",
       "<style scoped>\n",
       "    .dataframe tbody tr th:only-of-type {\n",
       "        vertical-align: middle;\n",
       "    }\n",
       "\n",
       "    .dataframe tbody tr th {\n",
       "        vertical-align: top;\n",
       "    }\n",
       "\n",
       "    .dataframe thead th {\n",
       "        text-align: right;\n",
       "    }\n",
       "</style>\n",
       "<table border=\"1\" class=\"dataframe\">\n",
       "  <thead>\n",
       "    <tr style=\"text-align: right;\">\n",
       "      <th></th>\n",
       "      <th>Year</th>\n",
       "      <th>Month</th>\n",
       "      <th>Crude Oil Price</th>\n",
       "      <th>Production</th>\n",
       "      <th>Crude Oil Export</th>\n",
       "      <th>Total Production[barrel]</th>\n",
       "      <th>Total Price</th>\n",
       "    </tr>\n",
       "  </thead>\n",
       "  <tbody>\n",
       "    <tr>\n",
       "      <th>0</th>\n",
       "      <td>2006</td>\n",
       "      <td>1</td>\n",
       "      <td>63.85</td>\n",
       "      <td>2.59</td>\n",
       "      <td>2.14</td>\n",
       "      <td>2590000</td>\n",
       "      <td>165371500</td>\n",
       "    </tr>\n",
       "    <tr>\n",
       "      <th>1</th>\n",
       "      <td>2006</td>\n",
       "      <td>2</td>\n",
       "      <td>61.33</td>\n",
       "      <td>2.47</td>\n",
       "      <td>2.02</td>\n",
       "      <td>2470000</td>\n",
       "      <td>151485100</td>\n",
       "    </tr>\n",
       "    <tr>\n",
       "      <th>2</th>\n",
       "      <td>2006</td>\n",
       "      <td>3</td>\n",
       "      <td>65.00</td>\n",
       "      <td>2.25</td>\n",
       "      <td>1.80</td>\n",
       "      <td>2250000</td>\n",
       "      <td>146250000</td>\n",
       "    </tr>\n",
       "    <tr>\n",
       "      <th>3</th>\n",
       "      <td>2006</td>\n",
       "      <td>4</td>\n",
       "      <td>72.09</td>\n",
       "      <td>2.32</td>\n",
       "      <td>1.87</td>\n",
       "      <td>2320000</td>\n",
       "      <td>167248800</td>\n",
       "    </tr>\n",
       "    <tr>\n",
       "      <th>4</th>\n",
       "      <td>2006</td>\n",
       "      <td>5</td>\n",
       "      <td>71.18</td>\n",
       "      <td>2.28</td>\n",
       "      <td>1.83</td>\n",
       "      <td>2280000</td>\n",
       "      <td>162290400</td>\n",
       "    </tr>\n",
       "  </tbody>\n",
       "</table>\n",
       "</div>"
      ],
      "text/plain": [
       "   Year  Month  Crude Oil Price  Production  Crude Oil Export  \\\n",
       "0  2006      1            63.85        2.59              2.14   \n",
       "1  2006      2            61.33        2.47              2.02   \n",
       "2  2006      3            65.00        2.25              1.80   \n",
       "3  2006      4            72.09        2.32              1.87   \n",
       "4  2006      5            71.18        2.28              1.83   \n",
       "\n",
       "   Total Production[barrel]  Total Price  \n",
       "0                   2590000    165371500  \n",
       "1                   2470000    151485100  \n",
       "2                   2250000    146250000  \n",
       "3                   2320000    167248800  \n",
       "4                   2280000    162290400  "
      ]
     },
     "execution_count": 13,
     "metadata": {},
     "output_type": "execute_result"
    }
   ],
   "source": [
    "data = raw_data.copy()\n",
    "data.head()"
   ]
  },
  {
   "cell_type": "code",
   "execution_count": 19,
   "metadata": {},
   "outputs": [
    {
     "data": {
      "text/plain": [
       "Year\n",
       "2006    28590000\n",
       "2007    26420000\n",
       "2008    25190000\n",
       "2009    25330000\n",
       "2010    29610000\n",
       "2011    28570000\n",
       "2012    27820000\n",
       "2013    26200000\n",
       "2014    26470000\n",
       "2015    25520000\n",
       "2016    21800000\n",
       "2017    22670000\n",
       "2018    22980000\n",
       "2019    24150000\n",
       "2020    21070000\n",
       "2021    15700000\n",
       "2022    11300000\n",
       "Name: Total Production[barrel], dtype: int64"
      ]
     },
     "execution_count": 19,
     "metadata": {},
     "output_type": "execute_result"
    }
   ],
   "source": [
    "Sum_of_yearly_prod = data.groupby(\"Year\")[\"Total Production[barrel]\"].sum()\n",
    "Sum_of_yearly_prod\n"
   ]
  },
  {
   "cell_type": "code",
   "execution_count": 21,
   "metadata": {},
   "outputs": [
    {
     "data": {
      "image/png": "[encoded data removed]",
      "text/plain": [
       "<Figure size 640x480 with 1 Axes>"
      ]
     },
     "metadata": {},
     "output_type": "display_data"
    }
   ],
   "source": [
    "Sum_of_yearly_prod.plot(kind=\"line\")\n",
    "plt.title(\"Total Yearly Crude Oil Production in Nigeria\")\n",
    "plt.show()"
   ]
  },
  {
   "cell_type": "markdown",
   "metadata": {},
   "source": [
    "finding the cummulative production "
   ]
  },
  {
   "cell_type": "code",
   "execution_count": 22,
   "metadata": {},
   "outputs": [
    {
     "data": {
      "text/html": [
       "<div>\n",
       "<style scoped>\n",
       "    .dataframe tbody tr th:only-of-type {\n",
       "        vertical-align: middle;\n",
       "    }\n",
       "\n",
       "    .dataframe tbody tr th {\n",
       "        vertical-align: top;\n",
       "    }\n",
       "\n",
       "    .dataframe thead th {\n",
       "        text-align: right;\n",
       "    }\n",
       "</style>\n",
       "<table border=\"1\" class=\"dataframe\">\n",
       "  <thead>\n",
       "    <tr style=\"text-align: right;\">\n",
       "      <th></th>\n",
       "      <th>max</th>\n",
       "      <th>min</th>\n",
       "    </tr>\n",
       "    <tr>\n",
       "      <th>Year</th>\n",
       "      <th></th>\n",
       "      <th></th>\n",
       "    </tr>\n",
       "  </thead>\n",
       "  <tbody>\n",
       "    <tr>\n",
       "      <th>2006</th>\n",
       "      <td>2590000</td>\n",
       "      <td>2250000</td>\n",
       "    </tr>\n",
       "    <tr>\n",
       "      <th>2007</th>\n",
       "      <td>2320000</td>\n",
       "      <td>1960000</td>\n",
       "    </tr>\n",
       "    <tr>\n",
       "      <th>2008</th>\n",
       "      <td>2260000</td>\n",
       "      <td>1960000</td>\n",
       "    </tr>\n",
       "    <tr>\n",
       "      <th>2009</th>\n",
       "      <td>2280000</td>\n",
       "      <td>1860000</td>\n",
       "    </tr>\n",
       "    <tr>\n",
       "      <th>2010</th>\n",
       "      <td>2880000</td>\n",
       "      <td>2210000</td>\n",
       "    </tr>\n",
       "    <tr>\n",
       "      <th>2011</th>\n",
       "      <td>2510000</td>\n",
       "      <td>2270000</td>\n",
       "    </tr>\n",
       "    <tr>\n",
       "      <th>2012</th>\n",
       "      <td>2480000</td>\n",
       "      <td>2030000</td>\n",
       "    </tr>\n",
       "    <tr>\n",
       "      <th>2013</th>\n",
       "      <td>2290000</td>\n",
       "      <td>2030000</td>\n",
       "    </tr>\n",
       "    <tr>\n",
       "      <th>2014</th>\n",
       "      <td>2330000</td>\n",
       "      <td>2060000</td>\n",
       "    </tr>\n",
       "    <tr>\n",
       "      <th>2015</th>\n",
       "      <td>2220000</td>\n",
       "      <td>1970000</td>\n",
       "    </tr>\n",
       "    <tr>\n",
       "      <th>2016</th>\n",
       "      <td>2150000</td>\n",
       "      <td>1500000</td>\n",
       "    </tr>\n",
       "    <tr>\n",
       "      <th>2017</th>\n",
       "      <td>2010000</td>\n",
       "      <td>1600000</td>\n",
       "    </tr>\n",
       "    <tr>\n",
       "      <th>2018</th>\n",
       "      <td>2010000</td>\n",
       "      <td>1780000</td>\n",
       "    </tr>\n",
       "    <tr>\n",
       "      <th>2019</th>\n",
       "      <td>2110000</td>\n",
       "      <td>1940000</td>\n",
       "    </tr>\n",
       "    <tr>\n",
       "      <th>2020</th>\n",
       "      <td>2070000</td>\n",
       "      <td>1420000</td>\n",
       "    </tr>\n",
       "    <tr>\n",
       "      <th>2021</th>\n",
       "      <td>1430000</td>\n",
       "      <td>1200000</td>\n",
       "    </tr>\n",
       "    <tr>\n",
       "      <th>2022</th>\n",
       "      <td>1400000</td>\n",
       "      <td>940000</td>\n",
       "    </tr>\n",
       "  </tbody>\n",
       "</table>\n",
       "</div>"
      ],
      "text/plain": [
       "          max      min\n",
       "Year                  \n",
       "2006  2590000  2250000\n",
       "2007  2320000  1960000\n",
       "2008  2260000  1960000\n",
       "2009  2280000  1860000\n",
       "2010  2880000  2210000\n",
       "2011  2510000  2270000\n",
       "2012  2480000  2030000\n",
       "2013  2290000  2030000\n",
       "2014  2330000  2060000\n",
       "2015  2220000  1970000\n",
       "2016  2150000  1500000\n",
       "2017  2010000  1600000\n",
       "2018  2010000  1780000\n",
       "2019  2110000  1940000\n",
       "2020  2070000  1420000\n",
       "2021  1430000  1200000\n",
       "2022  1400000   940000"
      ]
     },
     "execution_count": 22,
     "metadata": {},
     "output_type": "execute_result"
    }
   ],
   "source": [
    "Cummulative = data.groupby(\"Year\")[\"Total Production[barrel]\"].agg([max, min])\n",
    "Cummulative"
   ]
  },
  {
   "cell_type": "markdown",
   "metadata": {},
   "source": [
    "finding total production and sales made per year\n"
   ]
  },
  {
   "cell_type": "code",
   "execution_count": 29,
   "metadata": {},
   "outputs": [
    {
     "data": {
      "text/html": [
       "<div>\n",
       "<style scoped>\n",
       "    .dataframe tbody tr th:only-of-type {\n",
       "        vertical-align: middle;\n",
       "    }\n",
       "\n",
       "    .dataframe tbody tr th {\n",
       "        vertical-align: top;\n",
       "    }\n",
       "\n",
       "    .dataframe thead th {\n",
       "        text-align: right;\n",
       "    }\n",
       "</style>\n",
       "<table border=\"1\" class=\"dataframe\">\n",
       "  <thead>\n",
       "    <tr style=\"text-align: right;\">\n",
       "      <th></th>\n",
       "      <th>Total Production[barrel]</th>\n",
       "      <th>Total Price</th>\n",
       "    </tr>\n",
       "    <tr>\n",
       "      <th>Year</th>\n",
       "      <th></th>\n",
       "      <th></th>\n",
       "    </tr>\n",
       "  </thead>\n",
       "  <tbody>\n",
       "    <tr>\n",
       "      <th>2006</th>\n",
       "      <td>28590000</td>\n",
       "      <td>1904989300</td>\n",
       "    </tr>\n",
       "    <tr>\n",
       "      <th>2007</th>\n",
       "      <td>26420000</td>\n",
       "      <td>1981106800</td>\n",
       "    </tr>\n",
       "    <tr>\n",
       "      <th>2008</th>\n",
       "      <td>25190000</td>\n",
       "      <td>2536558900</td>\n",
       "    </tr>\n",
       "    <tr>\n",
       "      <th>2009</th>\n",
       "      <td>25330000</td>\n",
       "      <td>1627755900</td>\n",
       "    </tr>\n",
       "    <tr>\n",
       "      <th>2010</th>\n",
       "      <td>29610000</td>\n",
       "      <td>2400443200</td>\n",
       "    </tr>\n",
       "    <tr>\n",
       "      <th>2011</th>\n",
       "      <td>28570000</td>\n",
       "      <td>3247978200</td>\n",
       "    </tr>\n",
       "    <tr>\n",
       "      <th>2012</th>\n",
       "      <td>27820000</td>\n",
       "      <td>3164100900</td>\n",
       "    </tr>\n",
       "    <tr>\n",
       "      <th>2013</th>\n",
       "      <td>26200000</td>\n",
       "      <td>2909345800</td>\n",
       "    </tr>\n",
       "    <tr>\n",
       "      <th>2014</th>\n",
       "      <td>26470000</td>\n",
       "      <td>2658625200</td>\n",
       "    </tr>\n",
       "    <tr>\n",
       "      <th>2015</th>\n",
       "      <td>25520000</td>\n",
       "      <td>1340567300</td>\n",
       "    </tr>\n",
       "    <tr>\n",
       "      <th>2016</th>\n",
       "      <td>21800000</td>\n",
       "      <td>941761900</td>\n",
       "    </tr>\n",
       "    <tr>\n",
       "      <th>2017</th>\n",
       "      <td>22670000</td>\n",
       "      <td>1227922300</td>\n",
       "    </tr>\n",
       "    <tr>\n",
       "      <th>2018</th>\n",
       "      <td>22980000</td>\n",
       "      <td>1669515800</td>\n",
       "    </tr>\n",
       "    <tr>\n",
       "      <th>2019</th>\n",
       "      <td>24150000</td>\n",
       "      <td>1589036600</td>\n",
       "    </tr>\n",
       "    <tr>\n",
       "      <th>2020</th>\n",
       "      <td>21070000</td>\n",
       "      <td>882184900</td>\n",
       "    </tr>\n",
       "    <tr>\n",
       "      <th>2021</th>\n",
       "      <td>15700000</td>\n",
       "      <td>1096509200</td>\n",
       "    </tr>\n",
       "    <tr>\n",
       "      <th>2022</th>\n",
       "      <td>11300000</td>\n",
       "      <td>1218501900</td>\n",
       "    </tr>\n",
       "  </tbody>\n",
       "</table>\n",
       "</div>"
      ],
      "text/plain": [
       "      Total Production[barrel]  Total Price\n",
       "Year                                       \n",
       "2006                  28590000   1904989300\n",
       "2007                  26420000   1981106800\n",
       "2008                  25190000   2536558900\n",
       "2009                  25330000   1627755900\n",
       "2010                  29610000   2400443200\n",
       "2011                  28570000   3247978200\n",
       "2012                  27820000   3164100900\n",
       "2013                  26200000   2909345800\n",
       "2014                  26470000   2658625200\n",
       "2015                  25520000   1340567300\n",
       "2016                  21800000    941761900\n",
       "2017                  22670000   1227922300\n",
       "2018                  22980000   1669515800\n",
       "2019                  24150000   1589036600\n",
       "2020                  21070000    882184900\n",
       "2021                  15700000   1096509200\n",
       "2022                  11300000   1218501900"
      ]
     },
     "execution_count": 29,
     "metadata": {},
     "output_type": "execute_result"
    }
   ],
   "source": [
    "Sum_of_yearly_prod_Sales = data.groupby(\"Year\")[[\"Total Production[barrel]\", \"Total Price\"]].sum()\n",
    "Sum_of_yearly_prod_Sales"
   ]
  },
  {
   "cell_type": "code",
   "execution_count": 39,
   "metadata": {},
   "outputs": [
    {
     "data": {
      "image/png": "[encoded data removed]",
      "text/plain": [
       "<Figure size 640x480 with 1 Axes>"
      ]
     },
     "metadata": {},
     "output_type": "display_data"
    }
   ],
   "source": [
    "Yearly_production = data.groupby(\"Year\")[\"Total Production[barrel]\"].sum()\n",
    "Yearly_production.plot(kind=\"bar\")\n",
    "plt.title(\"Total Crude Oil Production per year\")\n",
    "plt.show()"
   ]
  },
  {
   "cell_type": "code",
   "execution_count": 40,
   "metadata": {},
   "outputs": [
    {
     "data": {
      "image/png": "[encoded data removed]",
      "text/plain": [
       "<Figure size 640x480 with 1 Axes>"
      ]
     },
     "metadata": {},
     "output_type": "display_data"
    }
   ],
   "source": [
    "Yearly_sales = data.groupby(\"Year\")[\"Total Price\"].sum()\n",
    "Yearly_sales.plot(kind=\"bar\")\n",
    "plt.title(\"Sales made from crude Oil in Nigeria per year\")\n",
    "plt.show()"
   ]
  }
 ],
 "metadata": {
  "kernelspec": {
   "display_name": "Python 3.9.7 ('assigtenv': venv)",
   "language": "python",
   "name": "python3"
  },
  "language_info": {
   "codemirror_mode": {
    "name": "ipython",
    "version": 3
   },
   "file_extension": ".py",
   "mimetype": "text/x-python",
   "name": "python",
   "nbconvert_exporter": "python",
   "pygments_lexer": "ipython3",
   "version": "3.9.7"
  },
  "orig_nbformat": 4,
  "vscode": {
   "interpreter": {
    "hash": "3319deae80ca1049543453e8bfe5413c9a094907f76b766860c6507da9462d64"
   }
  }
 },
 "nbformat": 4,
 "nbformat_minor": 2
}
